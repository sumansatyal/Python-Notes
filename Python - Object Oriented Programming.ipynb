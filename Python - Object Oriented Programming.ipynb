{
 "cells": [
  {
   "cell_type": "markdown",
   "id": "a239f611-90b6-4831-bcc2-46144bbc2578",
   "metadata": {},
   "source": [
    "# Object Oriented Programming"
   ]
  },
  {
   "cell_type": "markdown",
   "id": "a0a433d9-c962-49d3-8591-4d2d265967c3",
   "metadata": {},
   "source": [
    "Object-oriented programming (OOP) is a programming paradigm based on the concept of \"objects\", which can contain data (in the form of fields or attributes) and code (in the form of procedures or methods). Objects are instances of classes, which are templates or blueprints that define the structure and behavior of objects."
   ]
  },
  {
   "cell_type": "markdown",
   "id": "46dc8de8-ebc5-4e2c-a79f-dbb24b892fbe",
   "metadata": {},
   "source": [
    "Some of the Important Terms include:\n",
    "\n",
    "**Class:** A class is a blueprint or template for creating objects that define their structure and behavior.\n",
    "\n",
    "**Methods:** Methods are functions defined within a class that define the behavior of objects.\n",
    "\n",
    "**Attributes:** Attributes are variables within a class that hold data associated with objects.\n",
    "\n",
    "**Object:** An object is an instance of a class, representing a specific entity with its own unique data and behavior.\n",
    "\n",
    "**Inheritance:** Inheritance is a mechanism in OOP that allows a class (subclass) to inherit properties and behavior from another class (superclass).\n",
    "\n",
    "**Composition:** Composition is a design principle where a class contains objects of other classes as attributes to build complex structures."
   ]
  },
  {
   "cell_type": "markdown",
   "id": "f19fb68a-c9d1-4b57-bf24-e3b98b43a17a",
   "metadata": {},
   "source": [
    "### Example"
   ]
  },
  {
   "cell_type": "code",
   "execution_count": 2,
   "id": "e1f5daa1-f352-4ec8-b1a4-4fd0944a5435",
   "metadata": {},
   "outputs": [],
   "source": [
    "# Create a Class. Class name always starts with a Capital letter\n",
    "\n",
    "class Book():\n",
    "    # the init function is called when the instance is created and ready to be initialized\n",
    "    # 'Self' is just a naming convention\n",
    "    def __init__(self,title, author, pages, price):\n",
    "        #title, author,... are called instance attributes\n",
    "        self.title = title\n",
    "        self.author = author\n",
    "        self.pages = pages\n",
    "        self.price = price\n",
    "        \n",
    "# Create instance methods\n",
    "# hasattr() is a built-in Python function used to check if an object has a particular attribute or not. It takes two parameters:\n",
    "# Object: The object you want to check.\n",
    "# Attribute: The name of the attribute you want to check for.\n",
    "    \n",
    "    def getPrice(self):\n",
    "        if hasattr(self,'_discount'):\n",
    "            return self.price - (self.price * self._discount)\n",
    "        else:\n",
    "            return self.price\n",
    "\n",
    "    def setDiscount(self, amount):\n",
    "        self._discount = amount\n",
    "        # _discount: the underscore _ means this attribute is considered internal to the class\n",
    "\n",
    "# Create instances of the class\n",
    "\n",
    "book1 = Book('The Da Vinci Code', 'Dan Brown', 1000, 20)\n",
    "book2 = Book('Think Like a Monk', 'Jay Shetty', 500, 10)\n",
    "book3 = Book('Think and Grow Rich','abc def', 600, 15)"
   ]
  },
  {
   "cell_type": "code",
   "execution_count": 3,
   "id": "e1b52d0b-ff04-4265-b83f-d1dac93d123c",
   "metadata": {},
   "outputs": [
    {
     "name": "stdout",
     "output_type": "stream",
     "text": [
      "<__main__.Book object at 0x103a4fc40>\n",
      "The Da Vinci Code\n"
     ]
    }
   ],
   "source": [
    "# Print the class and Property\n",
    "print(book1)\n",
    "print(book1.title)"
   ]
  },
  {
   "cell_type": "code",
   "execution_count": 4,
   "id": "3c0146d8-88c0-433c-a230-9d7b5aa8d894",
   "metadata": {},
   "outputs": [
    {
     "name": "stdout",
     "output_type": "stream",
     "text": [
      "20\n"
     ]
    }
   ],
   "source": [
    "# Print the price of the book \n",
    "print(book1.getPrice())"
   ]
  },
  {
   "cell_type": "code",
   "execution_count": 5,
   "id": "29548379-4d24-4ea1-869a-b0951b08223e",
   "metadata": {},
   "outputs": [
    {
     "name": "stdout",
     "output_type": "stream",
     "text": [
      "20\n",
      "10.0\n"
     ]
    }
   ],
   "source": [
    "# Set the discount and print the price again\n",
    "print(book1.getPrice())\n",
    "book1.setDiscount(0.5)\n",
    "print(book1.getPrice())"
   ]
  },
  {
   "cell_type": "code",
   "execution_count": null,
   "id": "71cd74bb-4eb6-46a9-b195-42259cb1e2f2",
   "metadata": {},
   "outputs": [],
   "source": []
  },
  {
   "cell_type": "markdown",
   "id": "01935515-16da-4c6c-8295-b229348ced11",
   "metadata": {},
   "source": [
    "# Checking Instance Types"
   ]
  },
  {
   "cell_type": "code",
   "execution_count": 6,
   "id": "b55d5d3c-a3ff-46e0-9e13-83455a6bec71",
   "metadata": {},
   "outputs": [],
   "source": [
    "class Birds:\n",
    "    def __init__(self,title):\n",
    "        self.title = title\n",
    "\n",
    "class Animals:\n",
    "    def __init__(self,name):\n",
    "        self.name = name"
   ]
  },
  {
   "cell_type": "markdown",
   "id": "048ade58-4f2f-4404-9af1-8e0f41881bab",
   "metadata": {},
   "source": [
    "Let's create some instances for these classes"
   ]
  },
  {
   "cell_type": "code",
   "execution_count": 7,
   "id": "463142b7-0e95-41e9-9303-1710769ce25d",
   "metadata": {},
   "outputs": [
    {
     "name": "stdout",
     "output_type": "stream",
     "text": [
      "<class '__main__.Birds'>\n",
      "<class '__main__.Animals'>\n"
     ]
    }
   ],
   "source": [
    "B1 = Birds('Parrot')\n",
    "B2 = Birds('Crow')\n",
    "A1 = Animals('Dog')\n",
    "A2 = Animals('Cow')\n",
    "\n",
    "# Use the Type function to check the object type\n",
    "print(type(B1))\n",
    "print(type(A1))\n"
   ]
  },
  {
   "cell_type": "code",
   "execution_count": 8,
   "id": "576db02f-c326-43ad-b395-b1c5b341c424",
   "metadata": {},
   "outputs": [
    {
     "name": "stdout",
     "output_type": "stream",
     "text": [
      "True\n",
      "False\n"
     ]
    }
   ],
   "source": [
    "print(type(B1) == type(B2))\n",
    "print(type(B2) == type(A1))"
   ]
  },
  {
   "cell_type": "markdown",
   "id": "8480966d-e083-4a42-9415-ecf7eed35058",
   "metadata": {},
   "source": [
    "Use Instance to compare a specific instance to a known type"
   ]
  },
  {
   "cell_type": "code",
   "execution_count": 9,
   "id": "367ee1ec-15cb-408b-9441-0e725c1ef50c",
   "metadata": {},
   "outputs": [
    {
     "name": "stdout",
     "output_type": "stream",
     "text": [
      "True\n",
      "True\n"
     ]
    }
   ],
   "source": [
    "print(isinstance(B1, Birds))\n",
    "print(isinstance(A1, Animals))"
   ]
  },
  {
   "cell_type": "code",
   "execution_count": 10,
   "id": "4556ba03-7685-4ba7-bd0c-bd2a8ad55071",
   "metadata": {},
   "outputs": [
    {
     "name": "stdout",
     "output_type": "stream",
     "text": [
      "True\n"
     ]
    }
   ],
   "source": [
    "print(isinstance(A2, object))"
   ]
  },
  {
   "cell_type": "markdown",
   "id": "d5b59605-8072-4e38-a143-c728ba93dc30",
   "metadata": {},
   "source": [
    "Now let's look at Class Methods\n",
    "\n",
    "Instance methods receive specific object instance as an argument and operate on data specific to that object instance"
   ]
  },
  {
   "cell_type": "code",
   "execution_count": 11,
   "id": "99674d3c-aab8-4463-a1e9-42b0f0a160df",
   "metadata": {},
   "outputs": [],
   "source": [
    "# Properties defined at the class level are shared by all instances\n",
    "\n",
    "class Book:\n",
    "    BOOK_TYPES = ('hardcover', 'paperback', 'ebook')\n",
    "    # Create a class method\n",
    "    @classmethod\n",
    "    def get_book_types(cls):\n",
    "        return cls.BOOK_TYPES\n",
    "    \n",
    "    def setTitle(self, newtitle):\n",
    "        self.title = newtitle\n",
    "        \n",
    "    def __init__(self,title,booktype):\n",
    "        self.title = title\n",
    "        if (not booktype in Book.BOOK_TYPES):\n",
    "            raise ValueError(f'{booktype} is not a valid book type')\n",
    "        else:\n",
    "            self.booktype = booktype"
   ]
  },
  {
   "cell_type": "code",
   "execution_count": 12,
   "id": "5defcd2f-5e53-45da-b96c-1eeaa84e41eb",
   "metadata": {},
   "outputs": [
    {
     "name": "stdout",
     "output_type": "stream",
     "text": [
      "Book Types:  ('hardcover', 'paperback', 'ebook')\n"
     ]
    }
   ],
   "source": [
    "# Access the class attributes\n",
    "print(\"Book Types: \", Book.get_book_types())\n",
    "\n",
    "\n",
    "# create some book instances\n",
    "b1 = Book('Muna Madan', 'hardcover')\n",
    "b2 = Book('Think Like a Monk', 'paperback')"
   ]
  },
  {
   "cell_type": "code",
   "execution_count": null,
   "id": "8364deff-1b82-46db-aed3-fa23eb269335",
   "metadata": {},
   "outputs": [],
   "source": []
  },
  {
   "cell_type": "markdown",
   "id": "86386ab4-306a-4497-adc9-fa97d93d2b30",
   "metadata": {},
   "source": [
    "# Example 2\n",
    "Create a Class to represent stock information"
   ]
  },
  {
   "cell_type": "code",
   "execution_count": 15,
   "id": "3fbc4edf-56f9-46c6-9c02-6f3a2dc07ee9",
   "metadata": {},
   "outputs": [],
   "source": [
    "class Stock:\n",
    "    def __init__(self, ticker, price, company):\n",
    "        self.ticker = ticker\n",
    "        self.price = price\n",
    "        self.company = company\n",
    "\n",
    "    def get_description(self):\n",
    "        return f'{self.ticker}:  {self.company} --> ${self.price}'"
   ]
  },
  {
   "cell_type": "code",
   "execution_count": 18,
   "id": "7da96685-f2b3-4929-8dd3-e8988ff8dadb",
   "metadata": {},
   "outputs": [
    {
     "name": "stdout",
     "output_type": "stream",
     "text": [
      "TSLA:  TESLA INC --> $180.5\n",
      "APPL:  APPLE CO. --> $185.0\n"
     ]
    }
   ],
   "source": [
    "# Let's test the code with a couple stocks\n",
    "# Stock prices are as of May 5, 2024\n",
    "\n",
    "Tesla = Stock('TSLA', 180.5, 'TESLA INC')\n",
    "Apple = Stock('APPL', 185.0, 'APPLE CO.')\n",
    "\n",
    "print(Tesla.get_description())\n",
    "print(Apple.get_description())"
   ]
  },
  {
   "cell_type": "code",
   "execution_count": null,
   "id": "cfdad799-8216-44eb-93b9-190d9c77beb8",
   "metadata": {},
   "outputs": [],
   "source": []
  },
  {
   "cell_type": "markdown",
   "id": "d4df1166-6016-4495-9809-150b1647ecdc",
   "metadata": {},
   "source": [
    "# Inheritance\n"
   ]
  },
  {
   "cell_type": "markdown",
   "id": "69749187-8d7c-4045-8ae9-fcc76aa8f6d3",
   "metadata": {},
   "source": [
    "\n",
    "**Inheritance** is a fundamental concept in object-oriented programming (OOP), including Python. It allows a new class (called the derived\n",
    "class or subclass) to inherit attributes and methods from an existing class (called the base class, parent class, or superclass). \n",
    "This enables code reusability and establishes a hierarchy of classes.\n",
    "\n",
    "Here's how inheritance works in Python:\n",
    "\n",
    "**Base Class**: This is the class whose attributes and methods are inherited. It's defined like any other class."
   ]
  },
  {
   "cell_type": "code",
   "execution_count": 19,
   "id": "162350ca-a169-4222-9542-84c61a5d090a",
   "metadata": {},
   "outputs": [],
   "source": [
    "class Animal:\n",
    "    def __init__(self, name):\n",
    "        self.name = name\n",
    "    \n",
    "    def speak(self):\n",
    "        raise NotImplementedError(\"Subclass must implement abstract method\")"
   ]
  },
  {
   "cell_type": "markdown",
   "id": "b371765d-6c45-4df8-806b-85cf2e6153a3",
   "metadata": {},
   "source": [
    "**Derived Class**: This is the class that inherits from the base class. It's defined with the base class in parentheses after the class name."
   ]
  },
  {
   "cell_type": "code",
   "execution_count": 20,
   "id": "a337d6af-9f6c-49ad-a444-53ed50f72a38",
   "metadata": {},
   "outputs": [],
   "source": [
    "class Dog(Animal):\n",
    "    def speak(self):\n",
    "        return f\"{self.name} says Woof!\""
   ]
  },
  {
   "cell_type": "markdown",
   "id": "f7b671b2-fb9b-4115-bbdd-1b1a47eaaeee",
   "metadata": {},
   "source": [
    "**Inheriting Attributes**: The derived class inherits all the attributes and methods of the base class."
   ]
  },
  {
   "cell_type": "code",
   "execution_count": 21,
   "id": "9b35761c-07e1-4f97-956c-44cae5461f57",
   "metadata": {},
   "outputs": [
    {
     "name": "stdout",
     "output_type": "stream",
     "text": [
      "Buddy\n"
     ]
    }
   ],
   "source": [
    "my_dog = Dog(\"Buddy\")\n",
    "print(my_dog.name)"
   ]
  },
  {
   "cell_type": "markdown",
   "id": "3802e53b-b959-4f21-9024-323325cc023e",
   "metadata": {},
   "source": [
    "**Overriding Methods**: The derived class can provide its own implementation of methods from the base class. This is called method overriding."
   ]
  },
  {
   "cell_type": "code",
   "execution_count": 23,
   "id": "86c5016e-475d-46cd-b65c-1c82e9978986",
   "metadata": {},
   "outputs": [],
   "source": [
    "class Cat(Animal):\n",
    "    def speak(self):\n",
    "        return f\"{self.name} says Meow!\""
   ]
  },
  {
   "cell_type": "markdown",
   "id": "e310cac0-962d-4260-be33-0844af846927",
   "metadata": {},
   "source": [
    "**Adding New Methods**: The derived class can also have its own methods in addition to those inherited."
   ]
  },
  {
   "cell_type": "code",
   "execution_count": 24,
   "id": "fe6ededf-ddce-44a4-8c81-50a18817e406",
   "metadata": {},
   "outputs": [],
   "source": [
    "class Cat(Animal):\n",
    "    def speak(self):\n",
    "        return f\"{self.name} says Meow!\"\n",
    "    \n",
    "    def purr(self):\n",
    "        return f\"{self.name} is purring\""
   ]
  },
  {
   "cell_type": "markdown",
   "id": "7a6377db-58fa-4ec8-b751-5377683b1ef7",
   "metadata": {},
   "source": [
    "**Multiple Inheritance**: Python supports multiple inheritance, where a class can inherit from multiple base classes."
   ]
  },
  {
   "cell_type": "code",
   "execution_count": 26,
   "id": "b07773ea-236a-4819-8715-16bc348a1b75",
   "metadata": {},
   "outputs": [],
   "source": [
    "class A:\n",
    "    pass\n",
    "\n",
    "class B:\n",
    "    pass\n",
    "\n",
    "class C(A, B):\n",
    "    pass\n"
   ]
  },
  {
   "cell_type": "markdown",
   "id": "6b8c708b-6308-4228-8942-644d14d42429",
   "metadata": {},
   "source": [
    "**Method Resolution Order (MRO)**: When there's multiple inheritance, Python uses the C3 linearization algorithm to determine the order in which methods are inherited."
   ]
  },
  {
   "cell_type": "code",
   "execution_count": 27,
   "id": "7fe465ae-1e4e-421d-b912-e74623d2c3c5",
   "metadata": {},
   "outputs": [
    {
     "name": "stdout",
     "output_type": "stream",
     "text": [
      "(<class '__main__.C'>, <class '__main__.A'>, <class '__main__.B'>, <class 'object'>)\n"
     ]
    }
   ],
   "source": [
    "print(C.__mro__)"
   ]
  },
  {
   "cell_type": "markdown",
   "id": "83433811-7b74-495e-9481-4d0a5411eccf",
   "metadata": {},
   "source": [
    "## Example"
   ]
  },
  {
   "cell_type": "code",
   "execution_count": 29,
   "id": "8959b62b-107d-4d36-8972-bc8f9a1a63df",
   "metadata": {},
   "outputs": [
    {
     "name": "stdout",
     "output_type": "stream",
     "text": [
      "F. Scott Fitzgerald\n",
      "Guardian Media Group\n",
      "15.99 6.99 3.0\n"
     ]
    }
   ],
   "source": [
    "# Defines a basic publication with attributes title and price.\n",
    "\n",
    "class Publication:\n",
    "    def __init__(self, title, price):\n",
    "        self.title = title\n",
    "        self.price = price\n",
    "\n",
    "# Periodical inherits from Publication and adds attributes publisher and period\n",
    "class Periodical(Publication):\n",
    "    def __init__(self, title, price, publisher, period):\n",
    "        super().__init__(title, price)  # Calling the __init__ method of the superclass\n",
    "        self.period = period\n",
    "        self.publisher = publisher\n",
    "\n",
    "# Book inherits from Publication and adds attributes author and pages\n",
    "class Book(Publication):\n",
    "    def __init__(self, title, author, pages, price):\n",
    "        super().__init__(title, price)  # Calling the __init__ method of the superclass\n",
    "        self.author = author\n",
    "        self.pages = pages\n",
    "\n",
    "# Magazine inherits from Periodical\n",
    "# No new attributes are added, but it utilizes the publisher, price, and period attributes from its superclass Periodical.\n",
    "class Magazine(Periodical):\n",
    "    def __init__(self, title, publisher, price, period):\n",
    "        super().__init__(title, price, publisher, period)  # Calling the __init__ method of the superclass\n",
    "\n",
    "# Newspaper inherits from Periodical\n",
    "# Similar to Magazine, it utilizes attributes from its superclass.\n",
    "class Newspaper(Periodical):\n",
    "    def __init__(self, title, publisher, price, period):\n",
    "        super().__init__(title, price, publisher, period)  # Calling the __init__ method of the superclass\n",
    "\n",
    "# Creating instances of the classes\n",
    "b1 = Book(\"The Great Gatsby\", \"F. Scott Fitzgerald\", 180, 15.99)\n",
    "n1 = Newspaper(\"The Guardian\", \"Guardian Media Group\", 3.0, \"Weekly\")\n",
    "m1 = Magazine(\"National Geographic\", \"National Geographic Partners\", 6.99, \"Monthly\")\n",
    "\n",
    "# Printing attributes of the instances\n",
    "print(b1.author)  # Output: Aldous Huxley\n",
    "print(n1.publisher)  # Output: New York Times Company\n",
    "print(b1.price, m1.price, n1.price)  # Output: 29.0 5.99 6.0\n"
   ]
  },
  {
   "cell_type": "code",
   "execution_count": null,
   "id": "4da7d4ad-01f9-4902-bcc2-a9bd19b837d2",
   "metadata": {},
   "outputs": [],
   "source": []
  },
  {
   "cell_type": "markdown",
   "id": "919ac1af-cf8e-4af4-b7d2-0741de3d4a56",
   "metadata": {},
   "source": [
    "# Composition"
   ]
  },
  {
   "cell_type": "markdown",
   "id": "76431a27-2f37-4564-8d77-291edc326997",
   "metadata": {},
   "source": [
    "**Composition** in object-oriented programming (OOP) is a design principle where objects are composed of other objects. Unlike inheritance, where objects inherit behavior and properties from parent classes, composition involves creating complex objects by combining simpler ones.\n",
    "\n",
    "Here's a breakdown of how composition works:\n",
    "\n",
    "**Object Composition**: In composition, objects are composed of other objects. For example, if you have a Car class, it might contain instances of Engine, Wheel, Door, and Seat classes. Each of these components contributes to the functionality and behavior of the Car object.\n",
    "\n",
    "**Has-a Relationship**: Composition establishes a \"has-a\" relationship between classes. This means that a class has other classes as part of its structure. For instance, a Car has an Engine, Wheels, Doors, etc.\n",
    "\n",
    "**Code Reusability**: Composition promotes code reusability by allowing you to create components that can be used in multiple contexts. For example, you might have an Engine class that can be used in various types of vehicles, not just cars.\n",
    "\n",
    "**Flexibility and Modularity**: Composition makes your code more flexible and modular. You can easily swap out components or extend functionality by adding or removing parts of an object without affecting the entire system.\n",
    "\n",
    "**Encapsulation**: Each component in a composed object maintains its own state and behavior, encapsulating its functionality. This helps in keeping the codebase organized and manageable.\n",
    "\n",
    "**Dependency Management**: In composition, objects are loosely coupled, meaning they are independent of each other. This reduces the dependencies between classes, making the codebase easier to maintain and modify.\n",
    "\n",
    "In a composition class, you would typically design classes to represent the various components of a system and then compose them together to create more complex objects. This approach allows you to build scalable, maintainable, and reusable codebases in object-oriented programming."
   ]
  },
  {
   "cell_type": "code",
   "execution_count": 31,
   "id": "6c5ec230-6f0b-4a44-9339-c788281763dc",
   "metadata": {},
   "outputs": [
    {
     "name": "stdout",
     "output_type": "stream",
     "text": [
      "Engine started\n",
      "Wheel rotating\n",
      "Wheel rotating\n",
      "Wheel rotating\n",
      "Wheel rotating\n",
      "Car is driving...\n",
      "Engine stopped\n",
      "Wheel stopped rotating\n",
      "Wheel stopped rotating\n",
      "Wheel stopped rotating\n",
      "Wheel stopped rotating\n",
      "Door opened\n",
      "Door opened\n",
      "Door opened\n",
      "Door opened\n",
      "Door closed\n",
      "Door closed\n",
      "Door closed\n",
      "Door closed\n"
     ]
    }
   ],
   "source": [
    "# Component classes\n",
    "\n",
    "class Engine:\n",
    "    def start(self):\n",
    "        print(\"Engine started\")\n",
    "\n",
    "    def stop(self):\n",
    "        print(\"Engine stopped\")\n",
    "\n",
    "class Wheel:\n",
    "    def rotate(self):\n",
    "        print(\"Wheel rotating\")\n",
    "\n",
    "    def stop_rotation(self):\n",
    "        print(\"Wheel stopped rotating\")\n",
    "\n",
    "class Door:\n",
    "    def open(self):\n",
    "        print(\"Door opened\")\n",
    "\n",
    "    def close(self):\n",
    "        print(\"Door closed\")\n",
    "\n",
    "class Seat:\n",
    "    def sit(self):\n",
    "        print(\"Sitting on the seat\")\n",
    "\n",
    "    def get_up(self):\n",
    "        print(\"Getting up from the seat\")\n",
    "\n",
    "# Composed class\n",
    "\n",
    "class Car:\n",
    "    def __init__(self):\n",
    "        # Composition: Car has an Engine, Wheels, Doors, and Seats\n",
    "        self.engine = Engine()\n",
    "        self.wheels = [Wheel() for _ in range(4)]  # Car has 4 wheels\n",
    "        self.doors = [Door() for _ in range(4)]    # Car has 4 doors\n",
    "        self.seats = [Seat() for _ in range(5)]    # Car has 5 seats (including driver seat)\n",
    "\n",
    "    def start(self):\n",
    "        self.engine.start()\n",
    "        for wheel in self.wheels:\n",
    "            wheel.rotate()\n",
    "\n",
    "    def stop(self):\n",
    "        self.engine.stop()\n",
    "        for wheel in self.wheels:\n",
    "            wheel.stop_rotation()\n",
    "\n",
    "    def open_all_doors(self):\n",
    "        for door in self.doors:\n",
    "            door.open()\n",
    "\n",
    "    def close_all_doors(self):\n",
    "        for door in self.doors:\n",
    "            door.close()\n",
    "\n",
    "    def drive(self):\n",
    "        self.start()\n",
    "        print(\"Car is driving...\")\n",
    "        self.stop()\n",
    "\n",
    "# Using the Car class\n",
    "\n",
    "my_car = Car()\n",
    "\n",
    "# Let's drive the car\n",
    "my_car.drive()\n",
    "\n",
    "# Let's open and close the doors\n",
    "my_car.open_all_doors()\n",
    "my_car.close_all_doors()\n"
   ]
  },
  {
   "cell_type": "markdown",
   "id": "d1735135-26ff-4723-8c1f-95c831b59b73",
   "metadata": {},
   "source": [
    "We have several component classes: `Engine`, `Wheel`, `Door`, and `Seat`, each representing a part of a car.\n",
    "\n",
    "We then have a composed class `Car`, which contains instances of these component classes.\n",
    "\n",
    "The `Car` class has methods like `start()`, `stop()`, `open_all_doors()`, `close_all_doors()`, and `drive()` to perform various actions.\n",
    "\n",
    "When we create an instance of the `Car` class (`my_car`), it contains all the components of a car.\n",
    "\n",
    "We can then use `my_car` to perform actions like starting the engine, rotating wheels, opening and closing doors, and driving the car."
   ]
  },
  {
   "cell_type": "code",
   "execution_count": null,
   "id": "e93d4284-4360-48ec-b21b-365703c981f0",
   "metadata": {},
   "outputs": [],
   "source": []
  },
  {
   "cell_type": "code",
   "execution_count": null,
   "id": "744a3167-2030-491b-9ff6-ec0a771dfb74",
   "metadata": {},
   "outputs": [],
   "source": []
  }
 ],
 "metadata": {
  "kernelspec": {
   "display_name": "Python 3 (ipykernel)",
   "language": "python",
   "name": "python3"
  },
  "language_info": {
   "codemirror_mode": {
    "name": "ipython",
    "version": 3
   },
   "file_extension": ".py",
   "mimetype": "text/x-python",
   "name": "python",
   "nbconvert_exporter": "python",
   "pygments_lexer": "ipython3",
   "version": "3.9.6"
  }
 },
 "nbformat": 4,
 "nbformat_minor": 5
}
