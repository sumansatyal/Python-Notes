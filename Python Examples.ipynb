{
 "cells": [
  {
   "cell_type": "markdown",
   "id": "9ace504b-c611-4a20-b4a1-756f901f03bc",
   "metadata": {},
   "source": [
    "### Here are some Python Program Examples"
   ]
  },
  {
   "cell_type": "markdown",
   "id": "f7e149f4-6477-4cdb-8d0b-9eb662e75a39",
   "metadata": {},
   "source": [
    "**1. Fizz Buzz Program**"
   ]
  },
  {
   "cell_type": "code",
   "execution_count": 2,
   "id": "89eac07e-f784-4402-bd6e-cb4b2a574cd9",
   "metadata": {},
   "outputs": [
    {
     "name": "stdout",
     "output_type": "stream",
     "text": [
      "1\n",
      "2\n",
      "Fizz\n",
      "4\n",
      "Buzz\n",
      "Fizz\n",
      "7\n",
      "8\n",
      "Fizz\n",
      "Buzz\n",
      "11\n",
      "Fizz\n",
      "13\n",
      "14\n",
      "FizzBuzz\n",
      "16\n",
      "17\n",
      "Fizz\n",
      "19\n",
      "Buzz\n",
      "Fizz\n",
      "22\n",
      "23\n",
      "Fizz\n",
      "Buzz\n",
      "26\n",
      "Fizz\n",
      "28\n",
      "29\n",
      "FizzBuzz\n",
      "31\n",
      "32\n",
      "Fizz\n",
      "34\n",
      "Buzz\n",
      "Fizz\n",
      "37\n",
      "38\n",
      "Fizz\n",
      "Buzz\n",
      "41\n",
      "Fizz\n",
      "43\n",
      "44\n",
      "FizzBuzz\n",
      "46\n",
      "47\n",
      "Fizz\n",
      "49\n",
      "Buzz\n",
      "Fizz\n",
      "52\n",
      "53\n",
      "Fizz\n",
      "Buzz\n",
      "56\n",
      "Fizz\n",
      "58\n",
      "59\n",
      "FizzBuzz\n",
      "61\n",
      "62\n",
      "Fizz\n",
      "64\n",
      "Buzz\n",
      "Fizz\n",
      "67\n",
      "68\n",
      "Fizz\n",
      "Buzz\n",
      "71\n",
      "Fizz\n",
      "73\n",
      "74\n",
      "FizzBuzz\n",
      "76\n",
      "77\n",
      "Fizz\n",
      "79\n",
      "Buzz\n",
      "Fizz\n",
      "82\n",
      "83\n",
      "Fizz\n",
      "Buzz\n",
      "86\n",
      "Fizz\n",
      "88\n",
      "89\n",
      "FizzBuzz\n",
      "91\n",
      "92\n",
      "Fizz\n",
      "94\n",
      "Buzz\n",
      "Fizz\n",
      "97\n",
      "98\n",
      "Fizz\n",
      "Buzz\n"
     ]
    }
   ],
   "source": [
    "# 1, 2, fizz, 4, buzz, fizz, 7\n",
    "# If a number is divisible by 3: fizz\n",
    "# ... divisible by 5: buzz\n",
    "# ... divisible by 4 and 5: fizzbuzz\n",
    "\n",
    "for n in range (1, 101):\n",
    "    if n % 15 == 0:\n",
    "        print('FizzBuzz')\n",
    "    else:\n",
    "        if n % 3 == 0:\n",
    "            print('Fizz')\n",
    "        else:\n",
    "            if n % 5 ==0:\n",
    "                print('Buzz')\n",
    "            else:\n",
    "                print(n)"
   ]
  },
  {
   "cell_type": "markdown",
   "id": "16278e25-5299-4b71-9177-7337723ae966",
   "metadata": {},
   "source": [
    "----\n",
    "Let's write in Different Style"
   ]
  },
  {
   "cell_type": "code",
   "execution_count": 3,
   "id": "f15cda61-258f-4177-a16d-0a49e66dba16",
   "metadata": {},
   "outputs": [
    {
     "name": "stdout",
     "output_type": "stream",
     "text": [
      "[1, 2, 'fizz', 4, 'buzz', 'fizz', 7, 8, 'fizz', 'buzz', 11, 'fizz', 13, 14, 'fizzbuzz', 16, 17, 'fizz', 19, 'buzz', 'fizz', 22, 23, 'fizz', 'buzz', 26, 'fizz', 28, 29, 'fizzbuzz', 31, 32, 'fizz', 34, 'buzz', 'fizz', 37, 38, 'fizz', 'buzz', 41, 'fizz', 43, 44, 'fizzbuzz', 46, 47, 'fizz', 49, 'buzz', 'fizz', 52, 53, 'fizz', 'buzz', 56, 'fizz', 58, 59, 'fizzbuzz', 61, 62, 'fizz', 64, 'buzz', 'fizz', 67, 68, 'fizz', 'buzz', 71, 'fizz', 73, 74, 'fizzbuzz', 76, 77, 'fizz', 79, 'buzz', 'fizz', 82, 83, 'fizz', 'buzz', 86, 'fizz', 88, 89, 'fizzbuzz', 91, 92, 'fizz', 94, 'buzz', 'fizz', 97, 98, 'fizz', 'buzz']\n"
     ]
    }
   ],
   "source": [
    "print(['fizzbuzz' if n % 15 == 0 else 'fizz' if n % 3 == 0 else 'buzz' if n % 5 == 0 else n for n in range (1,101)])"
   ]
  },
  {
   "cell_type": "markdown",
   "id": "57d07fa9-15bb-4280-972b-be3530b99361",
   "metadata": {},
   "source": [
    "------"
   ]
  },
  {
   "cell_type": "markdown",
   "id": "d4940308-4edf-4b91-a34c-97e5b847944b",
   "metadata": {},
   "source": [
    "**2. Get Prime Numbers when given a range of Numbers**"
   ]
  },
  {
   "cell_type": "code",
   "execution_count": 4,
   "id": "b48fbc6a-dc94-4563-9541-b634fa9a75c4",
   "metadata": {},
   "outputs": [
    {
     "name": "stdout",
     "output_type": "stream",
     "text": [
      "[2, 3, 5, 7, 11, 13, 17, 19, 23, 29, 31, 37, 41, 43, 47, 53, 59, 61, 67, 71, 73, 79, 83, 89, 97]\n"
     ]
    }
   ],
   "source": [
    "primeList = []\n",
    "for n in range(2,100):\n",
    "    for factor in range(2,int(n**0.5)+1):\n",
    "        if n % factor == 0:\n",
    "            break\n",
    "    else:\n",
    "        primeList.append(n)\n",
    "        \n",
    "print(primeList)"
   ]
  },
  {
   "cell_type": "markdown",
   "id": "4017a0a7-96c8-4332-b79c-c9c746e9e6e3",
   "metadata": {},
   "source": [
    "----\n",
    "**3. Find Prime Factors of a given number**"
   ]
  },
  {
   "cell_type": "code",
   "execution_count": 5,
   "id": "78bf2bcc-d2b7-402d-8b9a-c1b0b9030826",
   "metadata": {},
   "outputs": [
    {
     "name": "stdin",
     "output_type": "stream",
     "text": [
      "Enter a number to find its prime factors:  40\n"
     ]
    },
    {
     "name": "stdout",
     "output_type": "stream",
     "text": [
      "Prime factors of 40 are: [2, 2, 2, 5]\n"
     ]
    }
   ],
   "source": [
    "def primeFactors(n):\n",
    "    factors = []\n",
    "    divisor = 2\n",
    "\n",
    "    while n > 1:\n",
    "        # Let's check if the number is divisible by the current divisor (starting at 2)\n",
    "        while n % divisor == 0:\n",
    "            factors.append(divisor)\n",
    "            n //= divisor\n",
    "        divisor += 1\n",
    "        \n",
    "    return factors\n",
    "\n",
    "# Now, let's test the function\n",
    "\n",
    "number = int(input(\"Enter a number to find its prime factors: \"))\n",
    "print(\"Prime factors of\", number, \"are:\", primeFactors(number))"
   ]
  },
  {
   "cell_type": "markdown",
   "id": "c3e86dc5-7d51-4c8e-849c-e927a26abece",
   "metadata": {},
   "source": [
    "----\n",
    "**4. Find if a given string or word is a Palindrome**\n",
    "\n",
    "(Palindrome should be renamed as PALINILAP)"
   ]
  },
  {
   "cell_type": "code",
   "execution_count": 6,
   "id": "70091216-fee3-48c0-843e-a03642a368db",
   "metadata": {},
   "outputs": [
    {
     "name": "stdin",
     "output_type": "stream",
     "text": [
      "Enter words to check if it is a palindrome:  ;alksf\n"
     ]
    },
    {
     "name": "stdout",
     "output_type": "stream",
     "text": [
      ";alksf is not a palindrome.\n"
     ]
    }
   ],
   "source": [
    "def palindrome(word):\n",
    "    # convert the word to lowercase to handle case=insensitivity\n",
    "    word = word.lower()\n",
    "    # Remove any non-alphanumeric characters\n",
    "    word = ''.join(char for char in word if char.isalnum())\n",
    "    # Reverse the word and compare it with the original word and return it\n",
    "    return word == word[::-1]\n",
    "\n",
    "# Let's test the function\n",
    "# It can if a word or the whole sentence is a palindrome\n",
    "\n",
    "word = input('Enter words to check if it is a palindrome: ')\n",
    "if palindrome(word):\n",
    "    print(word, 'is a palindrome.')\n",
    "else:\n",
    "    print(word, 'is not a palindrome.')"
   ]
  },
  {
   "cell_type": "markdown",
   "id": "9b4e4ac2-94d4-4f0f-bd4c-f1146ae30642",
   "metadata": {},
   "source": [
    "---\n",
    "**5. Sort the given words in alphabetic order**"
   ]
  },
  {
   "cell_type": "code",
   "execution_count": 7,
   "id": "33d3d26a-f064-471f-a567-c82b1ab6a533",
   "metadata": {},
   "outputs": [
    {
     "name": "stdin",
     "output_type": "stream",
     "text": [
      "Enter words separated by spaces:  \n"
     ]
    },
    {
     "name": "stdout",
     "output_type": "stream",
     "text": [
      "Words in Alphabetic Order []\n"
     ]
    }
   ],
   "source": [
    "def sortWords(words):\n",
    "    words = words.split()\n",
    "    words = sorted(words)\n",
    "    \n",
    "    return words\n",
    "\n",
    "# Test the function\n",
    "words = input('Enter words separated by spaces: ')\n",
    "sorted_words = sortWords(words)\n",
    "print('Words in Alphabetic Order', sorted_words)"
   ]
  },
  {
   "cell_type": "markdown",
   "id": "7f6c6245-2b72-40f6-bd72-47dcf809c77f",
   "metadata": {},
   "source": [
    "---\n",
    "**6. To find the Indices of an element(s) in a list**"
   ]
  },
  {
   "cell_type": "code",
   "execution_count": 8,
   "id": "fe2b42bb-a819-4cb9-9475-d120fd3fa3ed",
   "metadata": {},
   "outputs": [],
   "source": [
    "# define a function that takes two arguments: 'lst'- a nested list to search through, and 'target'- the value we want to find\n",
    "\n",
    "def findIndices(lst, target):\n",
    "    indices = []\n",
    "    # define a helper function\n",
    "    def search(lst, target, current_index=[]):\n",
    "        for i, elem in enumerate(lst):                       # Iterate through each 'element' of the current list along with its index 'i'\n",
    "            if isinstance(elem, list):                        # Checks if the current 'elem' is itself a list\n",
    "                search(elem, target, current_index + [i])\n",
    "                # If 'elem' is a list, we call the search function recursively with 'elem' as the new list to search, \n",
    "                # target remaining the same, and current_index + [i] to update the current index by appending the index i.\n",
    "            elif elem == target:\n",
    "                indices.append(current_index + [i])\n",
    "                # If the element matches the target, we append the current index [i] to 'current_index' and add it to the 'indices' list.\n",
    "    search(lst, target)\n",
    "    return indices"
   ]
  },
  {
   "cell_type": "code",
   "execution_count": 9,
   "id": "2417564c-8748-48e2-a6ad-ef90507a817e",
   "metadata": {},
   "outputs": [
    {
     "name": "stdout",
     "output_type": "stream",
     "text": [
      "Indices of 2 in the nested list: [[0, 0, 3], [0, 1], [0, 2, 1], [1, 3]]\n"
     ]
    }
   ],
   "source": [
    "nested_list = [[[0,1,2,3],3,[1,3]],[0,1,2,3]]  # Given any list\n",
    "\n",
    "# List find the indices of 2\n",
    "list_of_indices = findIndices(nested_list, 3)\n",
    "\n",
    "# Print the result\n",
    "print('Indices of 2 in the nested list:', list_of_indices)"
   ]
  },
  {
   "cell_type": "markdown",
   "id": "2cfc9505-6100-439c-9a04-bc57d3a16643",
   "metadata": {},
   "source": [
    "---\n",
    "**7. Waiting Game**\n",
    "\n",
    "Enter any time in seconds, say 5 seconds \\\n",
    "Hit ENTER and start counting. \\\n",
    "Hit ENTER to stop counting. \\\n",
    "You win if the elapsed time == 5 seconds"
   ]
  },
  {
   "cell_type": "code",
   "execution_count": 14,
   "id": "5006a376-32e8-423b-a859-971aa7273bf6",
   "metadata": {},
   "outputs": [
    {
     "name": "stdin",
     "output_type": "stream",
     "text": [
      "Press ENTER to start the time... 5\n",
      "Press ENTER again to stop the timer... \n"
     ]
    },
    {
     "name": "stdout",
     "output_type": "stream",
     "text": [
      "time elasped: 3.44 seconds, which is 1.56 seconds less than 5.\n"
     ]
    }
   ],
   "source": [
    "import time\n",
    "\n",
    "def waitingGame():\n",
    "    input('Press ENTER to start the time...')\n",
    "    start_time = time.time()    # Start the timer\n",
    "    input('Press ENTER again to stop the timer...')\n",
    "    end_time = time.time()      # Stop the timer\n",
    "    elapsed_time = end_time - start_time\n",
    "\n",
    "    if elapsed_time == 5:\n",
    "        print('Great Job!')\n",
    "    elif elapsed_time > 5:\n",
    "        print(f'time elapsed: {elapsed_time:.2f} seconds, which is {elapsed_time - 5: .2f} seconds more than 5.')\n",
    "    else:\n",
    "        print(f'time elasped: {elapsed_time:.2f} seconds, which is {5- elapsed_time:.2f} seconds less than 5.')\n",
    "        \n",
    "waitingGame()"
   ]
  },
  {
   "cell_type": "markdown",
   "id": "c931997c-8146-4943-933f-cc6a337e31e3",
   "metadata": {},
   "source": [
    "---\n",
    "**8. Rolling dice** \\\n",
    "Probability of getting a number (1 through 6) when rolling a die for certain times"
   ]
  },
  {
   "cell_type": "code",
   "execution_count": 15,
   "id": "aaf38ff0-e859-4b29-b013-73feeb0fe4cf",
   "metadata": {},
   "outputs": [
    {
     "name": "stdout",
     "output_type": "stream",
     "text": [
      "The probability of getting 1 is 0.17\n",
      "The probability of getting 2 is 0.17\n",
      "The probability of getting 3 is 0.16\n",
      "The probability of getting 4 is 0.17\n",
      "The probability of getting 5 is 0.16\n",
      "The probability of getting 6 is 0.17\n"
     ]
    }
   ],
   "source": [
    "import random\n",
    "\n",
    "def roll_die(n):\n",
    "    # Roll the die 'n' times and count occurrences of each number\n",
    "    counts = [0, 0, 0, 0, 0, 0]  # Initialize counts for numbers 1 through 6\n",
    "    for _ in range(n):\n",
    "        roll = random.randint(1, 6)  # Roll the die\n",
    "        counts[roll - 1] += 1  # Increment the count for the rolled number\n",
    "\n",
    "    return counts\n",
    "\n",
    "# Roll the die 100 times\n",
    "rolls = roll_die(10000)\n",
    "\n",
    "# Calculate the probability of getting numbers 1 through 6\n",
    "probabilities = [count / 10000 for count in rolls]\n",
    "\n",
    "# Print the results\n",
    "for number, probability in enumerate(probabilities, start=1):\n",
    "    print(f\"The probability of getting {number} is {probability:.2f}\")"
   ]
  },
  {
   "cell_type": "markdown",
   "id": "27b84fd4-ce7d-4050-ac78-320579c519d0",
   "metadata": {},
   "source": [
    "----\n",
    "**9. Count the number of unique words from a file. List the top 10 words and their frequency.**"
   ]
  },
  {
   "cell_type": "code",
   "execution_count": null,
   "id": "a295a969-5187-4cb4-afe4-121ad83cd5d0",
   "metadata": {},
   "outputs": [],
   "source": []
  },
  {
   "cell_type": "code",
   "execution_count": 42,
   "id": "c21b5593-ce23-4592-ba9a-e86feb8d048f",
   "metadata": {},
   "outputs": [],
   "source": [
    "from collections import Counter\n",
    "import re\n",
    "\n",
    "def countWords(file_name):\n",
    "    with open(file_name, 'r') as file:   # Open the file and read its contents\n",
    "        text = file.read()\n",
    "        text = re.sub(r'[^\\w\\s]', '', text)\n",
    "        '''text = re.sub('the','', text)\n",
    "        text = re.sub('a', '', text)\n",
    "        text = re.sub('I', '', text)'''\n",
    "\n",
    "    # Split the text into words and count their occurrences\n",
    "    words = text.split()\n",
    "    word_counts = Counter(words)\n",
    "\n",
    "    # Get the 10 words with highest frequency\n",
    "    most_common_words = word_counts.most_common(10)\n",
    "\n",
    "    # Display the 10 most common words\n",
    "    print('The 10 most used words are:')\n",
    "    for word, count in most_common_words:\n",
    "        print(f'{word}: {count} times')\n",
    "\n",
    "    return len(word_counts)     # Return the number of unique words\n"
   ]
  },
  {
   "cell_type": "code",
   "execution_count": 44,
   "id": "cbe3be59-48ca-4213-b1f5-38729fde9b68",
   "metadata": {},
   "outputs": [
    {
     "name": "stdout",
     "output_type": "stream",
     "text": [
      "The 10 most used words are:\n",
      "the: 700 times\n",
      "I: 525 times\n",
      "and: 499 times\n",
      "of: 472 times\n",
      "to: 425 times\n",
      "you: 398 times\n",
      "a: 289 times\n",
      "not: 274 times\n",
      "in: 271 times\n",
      "is: 249 times\n",
      "\n",
      "Total unique words: 4110\n"
     ]
    }
   ],
   "source": [
    "file_name = \"/Users/suman.satyal/Desktop/Julius_Cesar.txt\"\n",
    "\n",
    "word_count = countWords(file_name)\n",
    "print('\\nTotal unique words:', word_count)"
   ]
  },
  {
   "cell_type": "code",
   "execution_count": null,
   "id": "e4de5b34-0e57-404a-979a-5cb411dbf728",
   "metadata": {},
   "outputs": [],
   "source": []
  },
  {
   "cell_type": "code",
   "execution_count": null,
   "id": "b6619610-4194-446a-a739-5ffd97d25d5c",
   "metadata": {},
   "outputs": [],
   "source": []
  },
  {
   "cell_type": "code",
   "execution_count": null,
   "id": "ba5b551f-d236-46fa-8ec1-de28029d77bc",
   "metadata": {},
   "outputs": [],
   "source": []
  },
  {
   "cell_type": "code",
   "execution_count": null,
   "id": "4f0d39ef-53e1-45d1-b906-2c8b652911da",
   "metadata": {},
   "outputs": [],
   "source": []
  }
 ],
 "metadata": {
  "kernelspec": {
   "display_name": "Python 3 (ipykernel)",
   "language": "python",
   "name": "python3"
  },
  "language_info": {
   "codemirror_mode": {
    "name": "ipython",
    "version": 3
   },
   "file_extension": ".py",
   "mimetype": "text/x-python",
   "name": "python",
   "nbconvert_exporter": "python",
   "pygments_lexer": "ipython3",
   "version": "3.9.6"
  }
 },
 "nbformat": 4,
 "nbformat_minor": 5
}
